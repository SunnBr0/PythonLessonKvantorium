{
  "nbformat": 4,
  "nbformat_minor": 0,
  "metadata": {
    "colab": {
      "provenance": []
    },
    "kernelspec": {
      "name": "python3",
      "display_name": "Python 3"
    },
    "language_info": {
      "name": "python"
    }
  },
  "cells": [
    {
      "cell_type": "code",
      "source": [
        "# Получение первого символа\n",
        "string = \"Hello, World!\"\n",
        "first_char = string[0]\n",
        "print(f\"Первый символ: {first_char}\")"
      ],
      "metadata": {
        "id": "cIY8iwCu5VcK"
      },
      "execution_count": null,
      "outputs": []
    },
    {
      "cell_type": "code",
      "execution_count": null,
      "metadata": {
        "id": "Qmij2yckz5u2"
      },
      "outputs": [],
      "source": [
        "str1 = \"Hello\"\n",
        "str2 = \"World\"\n",
        "result = str1 + \" \" + str2\n",
        "print(result)"
      ]
    },
    {
      "cell_type": "code",
      "source": [
        "# Получение последнего символа\n",
        "string = \"Hello, World!\"\n",
        "last_char = string[-1]\n",
        "print(f\"Последний символ: {last_char}\")"
      ],
      "metadata": {
        "id": "y3PWGqFJ5XKa"
      },
      "execution_count": null,
      "outputs": []
    },
    {
      "cell_type": "code",
      "source": [
        "# Проверка на пустоту\n",
        "string = \"\"\n",
        "if string:\n",
        "    print(\"Строка не пустая.\")\n",
        "else:\n",
        "    print(\"Строка пустая.\")"
      ],
      "metadata": {
        "id": "fSz0XHdP5Yoq"
      },
      "execution_count": null,
      "outputs": []
    },
    {
      "cell_type": "code",
      "source": [
        "string = \"Hello, World!\"\n",
        "substring = string[7:12]\n",
        "print(substring)"
      ],
      "metadata": {
        "id": "i7QSxFQW0OXu"
      },
      "execution_count": null,
      "outputs": []
    },
    {
      "cell_type": "code",
      "source": [
        "string = \"apple,banana,cherry\"\n",
        "parts = string.split(\",\")\n",
        "print(parts)"
      ],
      "metadata": {
        "id": "1YnhypFA0Vdl"
      },
      "execution_count": null,
      "outputs": []
    },
    {
      "cell_type": "code",
      "source": [
        "string = \"Hello, World!\"\n",
        "substring = \"World\"\n",
        "if substring in string:\n",
        "    print(\"Подстрока найдена\")\n",
        "else:\n",
        "    print(\"Подстрока не найдена\")"
      ],
      "metadata": {
        "id": "2KxcCAsC0YLG"
      },
      "execution_count": null,
      "outputs": []
    },
    {
      "cell_type": "code",
      "source": [
        "string = \"hello, world!\"\n",
        "upper_string = string.upper()\n",
        "print(upper_string)"
      ],
      "metadata": {
        "id": "AJUEHFY00Zw0"
      },
      "execution_count": null,
      "outputs": []
    },
    {
      "cell_type": "code",
      "source": [
        "# Преобразование в нижний регистр\n",
        "string = \"HELLO, WORLD!\"\n",
        "lower_string = string.lower()\n",
        "print(f\"Нижний регистр: {lower_string}\")"
      ],
      "metadata": {
        "id": "DraOkbFu5fji"
      },
      "execution_count": null,
      "outputs": []
    },
    {
      "cell_type": "code",
      "source": [
        "string = \"   Hello, World!   \"\n",
        "trimmed_string = string.strip()\n",
        "print(trimmed_string)"
      ],
      "metadata": {
        "id": "xQCFwzfK0eoM"
      },
      "execution_count": null,
      "outputs": []
    },
    {
      "cell_type": "code",
      "source": [
        "# Подсчет символов\n",
        "string = \"Hello, World!\"\n",
        "char_count = string.count('o')\n",
        "print(f\"Количество символов 'o': {char_count}\")"
      ],
      "metadata": {
        "id": "Jin9azFK5kMJ"
      },
      "execution_count": null,
      "outputs": []
    },
    {
      "cell_type": "code",
      "source": [
        "name = \"Alice\"\n",
        "age = 30\n",
        "formatted_string = \"Name: {}, Age: {}\".format(name, age)\n",
        "print(formatted_string)"
      ],
      "metadata": {
        "id": "Crv3JEAy0f60"
      },
      "execution_count": null,
      "outputs": []
    },
    {
      "cell_type": "code",
      "source": [
        "string = \"Hello, World!\"\n",
        "reversed_words = string[::-1]\n",
        "reversed_string = \"\".join(reversed_words)\n",
        "print(reversed_words)"
      ],
      "metadata": {
        "id": "7v_v3S4j0hFE",
        "colab": {
          "base_uri": "https://localhost:8080/"
        },
        "outputId": "29d936f3-33f2-4530-aba0-1baf36aedf4e"
      },
      "execution_count": null,
      "outputs": [
        {
          "output_type": "stream",
          "name": "stdout",
          "text": [
            "!dlroW ,olleH\n"
          ]
        }
      ]
    },
    {
      "cell_type": "code",
      "source": [
        "string = \"Hello, World!\"\n",
        "char_count = {}\n",
        "for char in string:\n",
        "    if char in char_count:\n",
        "        char_count[char] += 1\n",
        "    else:\n",
        "        char_count[char] = 1\n",
        "print(char_count)"
      ],
      "metadata": {
        "id": "RWnFg0pd0qC8",
        "colab": {
          "base_uri": "https://localhost:8080/"
        },
        "outputId": "478d2a0c-b412-4649-b4f4-0b133919cbe9"
      },
      "execution_count": null,
      "outputs": [
        {
          "output_type": "stream",
          "name": "stdout",
          "text": [
            "{'H': 1, 'e': 1, 'l': 3, 'o': 2, ',': 1, ' ': 1, 'W': 1, 'r': 1, 'd': 1, '!': 1}\n"
          ]
        }
      ]
    },
    {
      "cell_type": "code",
      "source": [
        "# Длина строки\n",
        "string = \"Hello, World!\"\n",
        "length = len(string)\n",
        "print(f\"Длина строки: {length}\")"
      ],
      "metadata": {
        "id": "iPhliAZ95TaT"
      },
      "execution_count": null,
      "outputs": []
    },
    {
      "cell_type": "markdown",
      "source": [
        "Задача 1: Приветствие\n",
        "Напишите программу, которая спрашивает у пользователя его имя и выводит приветствие.\n",
        "\n",
        "Задача 2: Обратная строка\n",
        "Напишите программу, которая принимает строку и выводит её в обратном порядке.\n",
        "\n",
        "Задача 3: Подсчет гласных\n",
        "Напишите программу, которая подсчитывает количество гласных букв в строке.\n",
        "\n",
        "Задача 4: Замена слов\n",
        "Напишите программу, которая заменяет все вхождения одного слова другим словом в строке.\n",
        "\n",
        "Задача 5: Палиндром\n",
        "Напишите программу, которая проверяет, является ли строка палиндромом (читается одинаково с начала и с конца).\n",
        "\n",
        "Задача 6: Подсчет слов\n",
        "\n",
        "Задача 7: Удаление пробелов"
      ],
      "metadata": {
        "id": "pIudr_Mg0tAc"
      }
    },
    {
      "cell_type": "code",
      "source": [
        "#Задача 2: Обратная строка\n",
        "string = input(\"Введите строку: \")\n",
        "reversed_string = string[::-1]\n",
        "print(f\"Обратная строка: {reversed_string}\")"
      ],
      "metadata": {
        "id": "RPa5v08_0sv0"
      },
      "execution_count": null,
      "outputs": []
    },
    {
      "cell_type": "code",
      "source": [
        "#Задача 3: Подсчет гласных\n",
        "string = input(\"Введите строку: \")\n",
        "vowels = \"aeiouAEIOU\"\n",
        "count = 0\n",
        "for char in string:\n",
        "    if char in vowels:\n",
        "        count += 1\n",
        "print(f\"Количество гласных букв: {count}\")"
      ],
      "metadata": {
        "id": "0RaubKj31XiK"
      },
      "execution_count": null,
      "outputs": []
    },
    {
      "cell_type": "code",
      "source": [
        "#Задача 4: Замена слов\n",
        "string = input(\"Введите строку: \")\n",
        "old_word = input(\"Какое слово заменить? \")\n",
        "new_word = input(\"На какое слово заменить? \")\n",
        "new_string = string.replace(old_word, new_word)\n",
        "print(f\"Новая строка: {new_string}\")"
      ],
      "metadata": {
        "id": "PQAARlzY1Xfc"
      },
      "execution_count": null,
      "outputs": []
    },
    {
      "cell_type": "code",
      "source": [
        "vowels = \"Hello World\"\n",
        "new_string = string.replace(\"Hello\", \"eeqwe\")\n",
        "print(new_string)"
      ],
      "metadata": {
        "colab": {
          "base_uri": "https://localhost:8080/"
        },
        "id": "RoAdNCYvuVHN",
        "outputId": "8e8df619-a16c-421a-bfe2-31b69558c2e8"
      },
      "execution_count": null,
      "outputs": [
        {
          "output_type": "stream",
          "name": "stdout",
          "text": [
            "eeqwe, World!\n"
          ]
        }
      ]
    },
    {
      "cell_type": "code",
      "source": [
        "#Задача 5: Палиндром\n",
        "string = input(\"Введите строку: \")\n",
        "if string == string[::-1]:\n",
        "    print(\"Это палиндром!\")\n",
        "else:\n",
        "    print(\"Это не палиндром.\")"
      ],
      "metadata": {
        "id": "9sc9uRAu1Xcz",
        "colab": {
          "base_uri": "https://localhost:8080/"
        },
        "outputId": "0873665c-c6c8-4f05-eb59-59ee7115720f"
      },
      "execution_count": 3,
      "outputs": [
        {
          "output_type": "stream",
          "name": "stdout",
          "text": [
            "Введите строку: 122\n",
            "Это не палиндром.\n"
          ]
        }
      ]
    },
    {
      "cell_type": "code",
      "source": [
        "#Задача 6: Подсчет слов\n",
        "string = input(\"Введите строку: \")\n",
        "words = string.split()\n",
        "count = len(words)\n",
        "print(f\"Количество слов: {count}\")"
      ],
      "metadata": {
        "id": "RFeW1NyH18lj"
      },
      "execution_count": null,
      "outputs": []
    },
    {
      "cell_type": "code",
      "source": [
        "#Задача 7: Удаление пробелов\n",
        "string = input(\"Введите строку: \")\n",
        "no_spaces = string.replace(\" \", \"\")\n",
        "print(f\"Строка без пробелов: {no_spaces}\")"
      ],
      "metadata": {
        "id": "Qmt3JoF418ey"
      },
      "execution_count": null,
      "outputs": []
    },
    {
      "cell_type": "code",
      "source": [],
      "metadata": {
        "id": "NZ3Jm82K18YT"
      },
      "execution_count": null,
      "outputs": []
    }
  ]
}