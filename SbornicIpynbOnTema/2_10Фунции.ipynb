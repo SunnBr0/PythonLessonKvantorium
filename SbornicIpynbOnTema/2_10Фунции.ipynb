{
  "cells": [
    {
      "cell_type": "code",
      "execution_count": null,
      "metadata": {
        "id": "G_7UqTwQL_Ad"
      },
      "outputs": [],
      "source": [
        "def procedure_name():\n",
        "    # Тело процедуры\n",
        "    print(\"Процедура выполнена\")"
      ]
    },
    {
      "cell_type": "code",
      "execution_count": null,
      "metadata": {
        "id": "58sGZk0aeHJL"
      },
      "outputs": [],
      "source": [
        "def print_message(message):\n",
        "    print(f\"Ваше сообщение: {message}\")\n",
        "\n",
        "# Вызов процедуры\n",
        "print_message(\"Привет, мир!\")"
      ]
    },
    {
      "cell_type": "code",
      "execution_count": null,
      "metadata": {
        "id": "PGBrZCCzeHri"
      },
      "outputs": [],
      "source": [
        "def add_numbers(a, b):\n",
        "    return a + b\n",
        "\n",
        "# Пример использования\n",
        "result = add_numbers(3, 5)\n",
        "print(result)  # Вывод: 8"
      ]
    },
    {
      "cell_type": "code",
      "execution_count": null,
      "metadata": {
        "id": "0TVzUs5OeeBC"
      },
      "outputs": [],
      "source": [
        "def is_even(number):\n",
        "    return number % 2 == 0\n",
        "\n",
        "# Пример использования\n",
        "print(is_even(4))  # Вывод: True\n",
        "print(is_even(7))  # Вывод: False"
      ]
    },
    {
      "cell_type": "code",
      "execution_count": null,
      "metadata": {
        "id": "Ife2UQ0gegVK"
      },
      "outputs": [],
      "source": [
        "def square(n):\n",
        "    return n * n\n",
        "\n",
        "# Пример использования\n",
        "print(square(4))  # Вывод: 16\n",
        "print(square(7))  # Вывод: 49"
      ]
    },
    {
      "cell_type": "code",
      "execution_count": null,
      "metadata": {
        "id": "zl0rEqYlei16"
      },
      "outputs": [],
      "source": [
        "def max_of_two(a, b):\n",
        "    if a > b:\n",
        "        return a\n",
        "    else:\n",
        "        return b\n",
        "\n",
        "# Пример использования\n",
        "print(max_of_two(10, 5))  # Вывод: 10\n",
        "print(max_of_two(3, 8))   # Вывод: 8"
      ]
    },
    {
      "cell_type": "code",
      "execution_count": null,
      "metadata": {
        "id": "vYWUkPQ3ejfK"
      },
      "outputs": [],
      "source": [
        "def string_length(s):\n",
        "    return len(s)\n",
        "\n",
        "# Пример использования\n",
        "print(string_length(\"Hello\"))  # Вывод: 5\n",
        "print(string_length(\"Python\"))  # Вывод: 6"
      ]
    },
    {
      "cell_type": "code",
      "execution_count": null,
      "metadata": {
        "id": "EI2VFLbxemaS"
      },
      "outputs": [],
      "source": [
        "def celsius_to_fahrenheit(celsius):\n",
        "    return (celsius * 9/5) + 32\n",
        "\n",
        "# Пример использования\n",
        "print(celsius_to_fahrenheit(0))  # Вывод: 32.0\n",
        "print(celsius_to_fahrenheit(100))  # Вывод: 212.0"
      ]
    },
    {
      "cell_type": "code",
      "execution_count": null,
      "metadata": {
        "id": "w0exIZj-et6i"
      },
      "outputs": [],
      "source": [
        "def word_count(sentence):\n",
        "    words = sentence.split()\n",
        "    return len(words)\n",
        "\n",
        "# Пример использования\n",
        "print(word_count(\"Python is fun\"))  # Вывод: 3"
      ]
    },
    {
      "cell_type": "code",
      "execution_count": null,
      "metadata": {
        "id": "0fuOqL5dewB6"
      },
      "outputs": [],
      "source": [
        "def check_number(n):\n",
        "    if n > 0:\n",
        "        return \"Положительное\"\n",
        "    elif n < 0:\n",
        "        return \"Отрицательное\"\n",
        "    else:\n",
        "        return \"Ноль\"\n",
        "\n",
        "# Пример использования\n",
        "print(check_number(10))  # Вывод: Положительное\n",
        "print(check_number(-5))  # Вывод: Отрицательное\n",
        "print(check_number(0))   # Вывод: Ноль"
      ]
    },
    {
      "cell_type": "markdown",
      "metadata": {
        "id": "LV7eWKF-gB9h"
      },
      "source": [
        "Задача 1: Нахождение максимального из трёх чисел\n",
        "Условие:\n",
        "Напишите функцию max_of_three(a, b, c), которая принимает три числа и возвращает наибольшее из них."
      ]
    },
    {
      "cell_type": "markdown",
      "metadata": {
        "id": "NDcDUB5_gEIZ"
      },
      "source": [
        "Задача 2: Перевод времени\n",
        "Условие:\n",
        "Напишите функцию convert_minutes_to_hours(minutes), которая принимает количество минут и возвращает количество полных часов и оставшихся минут."
      ]
    },
    {
      "cell_type": "markdown",
      "metadata": {
        "id": "cNOEDCJwgSNB"
      },
      "source": [
        "Задача 5: Таблица умножения\n",
        "Условие:\n",
        "Напишите функцию multiplication_table(n), которая выводит таблицу умножения для числа n (от 1 до 10)."
      ]
    },
    {
      "cell_type": "markdown",
      "metadata": {
        "id": "6EWVdHK7mvJu"
      },
      "source": [
        "Задача 6: Факториал числа\n",
        "Условие:\n",
        "Напишите функцию factorial(n), которая возвращает факториал числа n."
      ]
    },
    {
      "cell_type": "markdown",
      "metadata": {
        "id": "P8XTe7olmwTm"
      },
      "source": [
        "Задача 7: Проверка числа на четность\n",
        "Условие:\n",
        "Напишите функцию is_even(n), которая принимает число и возвращает True, если число четное, и False, если оно нечетное."
      ]
    },
    {
      "cell_type": "markdown",
      "metadata": {
        "id": "T5os8SHUv7y_"
      },
      "source": [
        "Задача 8 .Сделать функции для расчёта площадей квадрата,прямоугольника,треугольника и окружности"
      ]
    },
    {
      "cell_type": "markdown",
      "metadata": {
        "id": "ZuO3wuu9v93p"
      },
      "source": []
    },
    {
      "cell_type": "code",
      "execution_count": null,
      "metadata": {
        "id": "-vfUX5RIaxrh"
      },
      "outputs": [],
      "source": [
        "#Задача 1: Нахождение максимального из трёх чисел\n",
        "\n",
        "def max_of_three(a, b, c):\n",
        "    return max(a, b, c)\n",
        "\n",
        "# Пример использования\n",
        "print(max_of_three(10, 20, 30))  # Вывод: 30\n",
        "#Задача 2: Перевод времени\n",
        "\n",
        "def convert_minutes_to_hours(minutes):\n",
        "    hours = minutes // 60\n",
        "    remaining_minutes = minutes % 60\n",
        "    return hours, remaining_minutes\n",
        "\n",
        "# Пример использования\n",
        "print(convert_minutes_to_hours(130))  # Вывод: (2, 10)\n",
        "#Задача 3: Проверка палиндрома\n",
        "\n",
        "def is_palindrome(word):\n",
        "    return word == word[::-1]\n",
        "\n",
        "# Пример использования\n",
        "print(is_palindrome(\"racecar\"))  # Вывод: True\n",
        "print(is_palindrome(\"hello\"))    # Вывод: False\n",
        "#Задача 4: Простые числа\n",
        "\n",
        "def is_prime(n):\n",
        "    if n <= 1:\n",
        "        return False\n",
        "    for i in range(2, int(n**0.5) + 1):\n",
        "        if n % i == 0:\n",
        "            return False\n",
        "    return True\n",
        "\n",
        "# Пример использования\n",
        "print(is_prime(7))  # Вывод: True\n",
        "print(is_prime(10))  # Вывод: False\n",
        "##Задача 5: Таблица умножения\n",
        "\n",
        "def multiplication_table(n):\n",
        "    for i in range(1, 11):\n",
        "        print(f\"{n} x {i} = {n * i}\")\n",
        "\n",
        "# Пример использования\n",
        "multiplication_table(5)\n",
        "# Вывод:\n",
        "# 5 x 1 = 5\n",
        "# 5 x 2 = 10\n",
        "# ...\n",
        "# 5 x 10 = 50\n",
        "Задача 6: Факториал числа\n",
        "\n",
        "def factorial(n):\n",
        "    if n == 0:\n",
        "        return 1\n",
        "    else:\n",
        "        return n * factorial(n - 1)\n",
        "\n",
        "# Пример использования\n",
        "print(factorial(5))  # Вывод: 120\n",
        "Задача 7: Проверка числа на четность\n",
        "\n",
        "def is_even(n):\n",
        "    return n % 2 == 0\n",
        "\n",
        "# Пример использования\n",
        "print(is_even(4))  # Вывод: True\n",
        "print(is_even(7))  # Вывод: False\n",
        "Задача 8: Расчёт площадей различных фигур\n",
        "\n",
        "def square_area(side):\n",
        "    return side ** 2\n",
        "\n",
        "def rectangle_area(length, width):\n",
        "    return length * width\n",
        "\n",
        "def triangle_area(base, height):\n",
        "    return 0.5 * base * height\n",
        "\n",
        "def circle_area(radius):\n",
        "    import math\n",
        "    return math.pi * radius ** 2\n",
        "\n",
        "# Пример использования\n",
        "print(square_area(4))          # Вывод: 16\n",
        "print(rectangle_area(4, 5))    # Вывод: 20\n",
        "print(triangle_area(6, 8))     # Вывод: 24.0\n",
        "print(circle_area(3))          # Вывод: 28.274333882308138"
      ]
    }
  ],
  "metadata": {
    "colab": {
      "provenance": []
    },
    "kernelspec": {
      "display_name": "Python 3",
      "name": "python3"
    },
    "language_info": {
      "name": "python"
    }
  },
  "nbformat": 4,
  "nbformat_minor": 0
}
