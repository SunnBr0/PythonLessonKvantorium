{
 "cells": [
  {
   "cell_type": "code",
   "execution_count": 1,
   "id": "875410b1",
   "metadata": {},
   "outputs": [
    {
     "name": "stdout",
     "output_type": "stream",
     "text": [
      "Экспорт в PDF\n",
      "Экспорт в PNG\n",
      "Сохранить файл\n",
      "Открыть файл\n",
      "Сохранить файл\n"
     ]
    }
   ],
   "source": [
    "import tkinter as tk\n",
    "root = tk.Tk()\n",
    "root.title(\"Пример\")\n",
    "root.geometry(\"400x300\")\n",
    "mainMenu = tk.Menu(root)\n",
    "root.config(menu=mainMenu)\n",
    "\n",
    "fileMenu = tk.Menu(mainMenu,tearoff=0)\n",
    "fileMenu.add_command(label=\"Открыть\",command=lambda: print(\"Открыть файл\"))\n",
    "fileMenu.add_command(label=\"Сохранить\",command=lambda: print(\"Сохранить файл\"))\n",
    "exportMenu = tk.Menu(fileMenu,tearoff=0)\n",
    "exportMenu.add_command(label=\"В PDF\",command=lambda: print(\"Экспорт в PDF\"))\n",
    "exportMenu.add_command(label=\"В PNG\",command=lambda:print(\"Экспорт в PNG\"))\n",
    "\n",
    "fileMenu.add_cascade(label=\"Экспорт\",menu=exportMenu)\n",
    "fileMenu.add_separator()\n",
    "fileMenu.add_command(label=\"Выход\",command=root.quit)\n",
    "mainMenu.add_cascade(label=\"Файл\",menu=fileMenu)\n",
    "root.mainloop()"
   ]
  },
  {
   "cell_type": "code",
   "execution_count": 1,
   "id": "492fe349",
   "metadata": {},
   "outputs": [],
   "source": [
    "import tkinter as tk\n",
    "from tkinter import  messagebox, filedialog\n",
    "def openFile():\n",
    "    \"\"\"Открытие файла\"\"\"\n",
    "    file_path = filedialog.askopenfilename(\n",
    "        title=\"Выберите файл\",\n",
    "        filetypes=((\"Текстовые файлы\", \"*.txt\"), (\"Все файлы\", \"*.*\"))\n",
    "    )\n",
    "    if file_path:\n",
    "        messagebox.showinfo(\"Файл открыт\", f\"Выбран файл: {file_path}\")\n",
    "\n",
    "def saveFile():\n",
    "    \"\"\"Сохранение файла\"\"\"\n",
    "    file_path = filedialog.asksaveasfilename(\n",
    "        title=\"Сохранить файл\",\n",
    "        defaultextension=\".txt\",\n",
    "        filetypes=((\"Текстовые файлы\", \"*.txt\"), (\"Все файлы\", \"*.*\"))\n",
    "    )\n",
    "    if file_path:\n",
    "        with open(file_path, \"w\") as file:\n",
    "            file.write(\"Пример текста\")\n",
    "        messagebox.showinfo(\"Файл сохранен\", f\"Файл сохранен: {file_path}\")\n",
    "\n",
    "def about():\n",
    "    \"\"\"О программе\"\"\"\n",
    "    messagebox.showinfo(\n",
    "        \"О программе\", \n",
    "        \"Это ПО Tkinter.\")\n",
    "root = tk.Tk()\n",
    "root.title(\"Пример\")\n",
    "root.geometry(\"400x300\")\n",
    "mainMenu = tk.Menu(root)\n",
    "root.config(menu=mainMenu)\n",
    "fileMenu = tk.Menu(mainMenu,tearoff=0)\n",
    "fileMenu.add_command(\n",
    "    label=\"Открыть\",\n",
    "    command=openFile)\n",
    "fileMenu.add_command(label=\"Сохранить\",\n",
    "                     command=saveFile)\n",
    "fileMenu.add_separator()\n",
    "fileMenu.add_command(label=\"Выход\",\n",
    "                     command=root.quit)\n",
    "mainMenu.add_cascade(label=\"Файл\"\n",
    "                     ,menu=fileMenu)\n",
    "helpMenu = tk.Menu(mainMenu,tearoff=0)\n",
    "helpMenu.add_command(label=\"О программе\",\n",
    "                     command=about)\n",
    "mainMenu.add_cascade(label=\"Помощь\",\n",
    "                     menu=helpMenu)\n",
    "root.mainloop()"
   ]
  }
 ],
 "metadata": {
  "kernelspec": {
   "display_name": "Python 3",
   "language": "python",
   "name": "python3"
  },
  "language_info": {
   "codemirror_mode": {
    "name": "ipython",
    "version": 3
   },
   "file_extension": ".py",
   "mimetype": "text/x-python",
   "name": "python",
   "nbconvert_exporter": "python",
   "pygments_lexer": "ipython3",
   "version": "3.11.0"
  }
 },
 "nbformat": 4,
 "nbformat_minor": 5
}
