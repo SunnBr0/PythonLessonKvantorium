{
 "cells": [
  {
   "cell_type": "code",
   "execution_count": 4,
   "id": "2e410dfd",
   "metadata": {},
   "outputs": [],
   "source": [
    "import tkinter as tk\n",
    "root = tk.Tk()\n",
    "root.title(\"Приложение\")\n",
    "root.geometry(\"400x500\")\n",
    "container = tk.Frame(root)\n",
    "label = tk.Label(container,text=\"Добро пожаловать\")\n",
    "labelText=tk.Label(container,text=\"Ваше имя: \")\n",
    "entry =  tk.Entry(container,width=50)\n",
    "def showText():\n",
    "    text = entry.get()\n",
    "    labelText.config(text=(\"Ваше имя: \"+text))\n",
    "button = tk.Button(container,text=\"Нажми на меня\",command=showText)\n",
    "\n",
    "label.grid(row=0,column=0)\n",
    "labelText.grid(row=1,column=0)\n",
    "entry.grid(row=2,column=0)\n",
    "button.grid(row=3,column=0)\n",
    "# py -m pip install tkinter\n",
    "container.place(x=10,y=50)\n",
    "root.mainloop()"
   ]
  },
  {
   "cell_type": "code",
   "execution_count": null,
   "id": "019a2c8d",
   "metadata": {},
   "outputs": [],
   "source": [
    "import tkinter as tk\n",
    "def oper(operation,labelResult,entryOne,entryTwo):\n",
    "    num1 =int(entryOne.get())\n",
    "    num2 =int(entryTwo.get())\n",
    "    if(operation == \"+\"):\n",
    "        res = num1 + num2\n",
    "    elif (operation == \"-\"):\n",
    "        res = num1 - num2\n",
    "    labelResult.config(text=(\"Результат:\",res))\n",
    "root = tk.Tk()\n",
    "root.title(\"Приложение\")\n",
    "root.geometry(\"400x500\")\n",
    "labelOne = tk.Label(root,text=\"Введите одно число\")\n",
    "entryOne =  tk.Entry(root,width=50)\n",
    "labelTwo = tk.Label(root,text=\"Введите второе число\")\n",
    "entryTwo =  tk.Entry(root,width=50)\n",
    "buttonSum = tk.Button(root,text=\"+\",width=5,command=lambda: oper(\"+\",labelResult,entryOne,entryTwo))\n",
    "buttonMinus = tk.Button(root,text=\"-\",width=5,command=lambda: oper(\"-\",labelResult,entryOne,entryTwo))\n",
    "labelResult = tk.Label(root,text=\"Результат: \")\n",
    "labelOne.pack()\n",
    "entryOne.pack()\n",
    "labelTwo.pack()\n",
    "entryTwo.pack()\n",
    "buttonSum.pack()\n",
    "buttonMinus.pack()\n",
    "labelResult.pack()\n",
    "root.mainloop()"
   ]
  }
 ],
 "metadata": {
  "kernelspec": {
   "display_name": "Python 3",
   "language": "python",
   "name": "python3"
  },
  "language_info": {
   "codemirror_mode": {
    "name": "ipython",
    "version": 3
   },
   "file_extension": ".py",
   "mimetype": "text/x-python",
   "name": "python",
   "nbconvert_exporter": "python",
   "pygments_lexer": "ipython3",
   "version": "3.11.0"
  }
 },
 "nbformat": 4,
 "nbformat_minor": 5
}
