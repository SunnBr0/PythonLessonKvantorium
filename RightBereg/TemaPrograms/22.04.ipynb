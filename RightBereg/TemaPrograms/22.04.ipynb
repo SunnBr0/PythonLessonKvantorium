{
 "cells": [
  {
   "cell_type": "code",
   "execution_count": null,
   "id": "78f93509",
   "metadata": {},
   "outputs": [],
   "source": [
    "import tkinter as tk\n",
    "from PIL import Image, ImageTk\n",
    "# py -m pip install pillow\n",
    "root = tk.Tk()\n",
    "root.title(\"Отображение изображения\")\n",
    "root.geometry(\"400x300\")\n",
    "image = Image.open(\"1.jpg\")\n",
    "image = image.resize((200,200))\n",
    "photo = ImageTk.PhotoImage(image)\n",
    "label = tk.Label(root,image=photo)\n",
    "label.pack()\n",
    "root.mainloop()"
   ]
  },
  {
   "cell_type": "code",
   "execution_count": 5,
   "id": "a4ea5f33",
   "metadata": {},
   "outputs": [],
   "source": [
    "import tkinter as tk\n",
    "from PIL import Image, ImageTk\n",
    "# py -m pip install pillow\n",
    "root = tk.Tk()\n",
    "root.title(\"Отображение изображения\")\n",
    "root.geometry(\"400x300\")\n",
    "text = tk.Text(root, width=40, height=10)\n",
    "text.pack(pady=20)\n",
    "image = Image.open(\"1.jpg\")\n",
    "image = image.resize((100,100))\n",
    "photo = ImageTk.PhotoImage(image)\n",
    "text.image_create(tk.END, image=photo)\n",
    "text.insert(tk.END, \"\\nЭто текст после изображения.\")\n",
    "root.mainloop()"
   ]
  },
  {
   "cell_type": "code",
   "execution_count": 7,
   "id": "32ffdc2d",
   "metadata": {},
   "outputs": [],
   "source": [
    "import tkinter as tk\n",
    "from PIL import Image, ImageTk\n",
    "root = tk.Tk()\n",
    "root.title(\"Отображение изображения\")\n",
    "root.geometry(\"400x300\")\n",
    "canvas = tk.Canvas(root, width=400, height=300)\n",
    "canvas.pack()\n",
    "text = tk.Text(root, width=40, height=10)\n",
    "text.pack(pady=20)\n",
    "image = Image.open(\"1.jpg\")\n",
    "image = image.resize((100,100))\n",
    "photo = ImageTk.PhotoImage(image)\n",
    "x, y = 50, 50\n",
    "item = canvas.create_image(x, y, image=photo)\n",
    "def move_image():\n",
    "    global x, y\n",
    "    canvas.move(item, 5, 0)  # Двигаем изображение по оси X\n",
    "    x += 5\n",
    "    if x > 350:\n",
    "        canvas.coords(item, 50, y)\n",
    "        x = 50\n",
    "    root.after(50, move_image)  # Вызываем функцию снова через 50 мс\n",
    "move_image()\n",
    "root.mainloop()"
   ]
  }
 ],
 "metadata": {
  "kernelspec": {
   "display_name": "Python 3",
   "language": "python",
   "name": "python3"
  },
  "language_info": {
   "codemirror_mode": {
    "name": "ipython",
    "version": 3
   },
   "file_extension": ".py",
   "mimetype": "text/x-python",
   "name": "python",
   "nbconvert_exporter": "python",
   "pygments_lexer": "ipython3",
   "version": "3.11.0"
  }
 },
 "nbformat": 4,
 "nbformat_minor": 5
}
