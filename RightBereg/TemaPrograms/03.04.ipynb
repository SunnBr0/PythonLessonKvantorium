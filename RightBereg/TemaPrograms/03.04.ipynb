{
 "cells": [
  {
   "cell_type": "code",
   "execution_count": 1,
   "metadata": {},
   "outputs": [],
   "source": [
    "import tkinter as tk\n",
    "root = tk.Tk()\n",
    "root.mainloop()"
   ]
  },
  {
   "cell_type": "code",
   "execution_count": null,
   "metadata": {},
   "outputs": [],
   "source": [
    "import tkinter as tk\n",
    "from tkinter import ttk\n",
    "root = tk.Tk()\n",
    "root.title(\"Моё приложение \")\n",
    "root.geometry(\"300x400\")\n",
    "label = tk.Label(root,text=\"Добро пожаловать\",font=(\"Arial\",25))\n",
    "label.pack()\n",
    "entry = tk.Entry(root,width=50)\n",
    "entry.pack()\n",
    "button = tk.Button(root,text=\"Нажми на меня\")\n",
    "button.pack()\n",
    "valueCheck = tk.BooleanVar()\n",
    "checkBox = tk.Checkbutton(root,text=\"Подтвердить\",variable=valueCheck)\n",
    "checkBox.pack()\n",
    "radioVar = tk.StringVar(value=\"opt1\")\n",
    "radio1 = tk.Radiobutton(root,text=\"Опция 1\",variable=radioVar,value=\"opt1\")\n",
    "radio2 = tk.Radiobutton(root,text=\"Опция 2\",variable=radioVar,value=\"opt2\")\n",
    "radio1.pack()\n",
    "radio2.pack()\n",
    "listBox = tk.Listbox(root)\n",
    "listBox.pack()\n",
    "for item in [10,20,30,40]:\n",
    "    listBox.insert(tk.END,item)\n",
    "# from tkinter import ttk\n",
    "progress = ttk.Progressbar(root,orient=\"horizontal\",length=200,mode=\"determinate\")\n",
    "progress.pack()\n",
    "progress[\"value\"] = 68\n",
    "root.mainloop()"
   ]
  },
  {
   "cell_type": "code",
   "execution_count": 26,
   "metadata": {},
   "outputs": [],
   "source": [
    "import tkinter as tk\n",
    "root = tk.Tk()\n",
    "root.title(\"Приложение\")\n",
    "root.geometry(\"400x400\")\n",
    "but1 = tk.Button(root,text=\"Кнопка 1\")\n",
    "but2 = tk.Button(root,text=\"Кнопка 2\")\n",
    "but3 = tk.Button(root,text=\"Кнопка 3\")\n",
    "but4 = tk.Button(root,text=\"Кнопка 4\")\n",
    "but5 = tk.Button(root,text=\"Кнопка 5\")\n",
    "\n",
    "but1.grid(row=0,column=0)\n",
    "but2.grid(row=0,column=1)\n",
    "but3.grid(row=0,column=2)\n",
    "but4.grid(row=1,column=1)\n",
    "but5.place(x=100, y=50)\n",
    "root.mainloop()\n"
   ]
  }
 ],
 "metadata": {
  "kernelspec": {
   "display_name": "Python 3",
   "language": "python",
   "name": "python3"
  },
  "language_info": {
   "codemirror_mode": {
    "name": "ipython",
    "version": 3
   },
   "file_extension": ".py",
   "mimetype": "text/x-python",
   "name": "python",
   "nbconvert_exporter": "python",
   "pygments_lexer": "ipython3",
   "version": "3.11.0"
  }
 },
 "nbformat": 4,
 "nbformat_minor": 2
}
