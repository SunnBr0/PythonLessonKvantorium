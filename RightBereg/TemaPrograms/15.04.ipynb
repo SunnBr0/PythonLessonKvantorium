{
 "cells": [
  {
   "cell_type": "code",
   "execution_count": null,
   "id": "c4b10a17",
   "metadata": {},
   "outputs": [],
   "source": [
    "import tkinter as tk\n",
    "from tkinter import ttk\n",
    "root = tk.Tk()\n",
    "root.title(\"Стиль\")\n",
    "root.geometry(\"400x300\")\n",
    "style = ttk.Style()\n",
    "style.configure(\n",
    "    \"Custom.TButton\",\n",
    "    background=\"lightgreen\",\n",
    "    foreground = \"red\",\n",
    "    font=(\"Arial\",14),\n",
    "    padding= 40\n",
    ")\n",
    "style.map(\n",
    "    \"Custom.TButton\",\n",
    "    background=[(\"active\", \"lightblue\"),\n",
    "                 (\"pressed\", \"darkblue\")],  # Изменение цвета фона\n",
    "    foreground=[(\"active\", \"white\"),\n",
    "                 (\"pressed\", \"yellow\")]  # Изменение цвета текста\n",
    ")\n",
    "\n",
    "buttons = ttk.Button(\n",
    "    root,\n",
    "    text=\"Тематическая кнопка\",\n",
    "    style=\"Custom.TButton\"\n",
    ")\n",
    "buttons.pack(pady=20)\n",
    "styleEntry = ttk.Style()\n",
    "styleEntry.configure(\n",
    "    \"Custom.TEntry\",\n",
    "    fieldbackground =\"blue\",\n",
    "    foreground=\"green\",\n",
    "    insertcolor = \"red\",\n",
    "    insertwidth=10,\n",
    "    font=(\"Arial\",14)\n",
    ")\n",
    "entry = ttk.Entry(root,style=\"Custom.TEntry\")\n",
    "entry.pack(pady=20)\n",
    "root.mainloop()"
   ]
  }
 ],
 "metadata": {
  "kernelspec": {
   "display_name": "Python 3",
   "language": "python",
   "name": "python3"
  },
  "language_info": {
   "codemirror_mode": {
    "name": "ipython",
    "version": 3
   },
   "file_extension": ".py",
   "mimetype": "text/x-python",
   "name": "python",
   "nbconvert_exporter": "python",
   "pygments_lexer": "ipython3",
   "version": "3.11.0"
  }
 },
 "nbformat": 4,
 "nbformat_minor": 5
}
