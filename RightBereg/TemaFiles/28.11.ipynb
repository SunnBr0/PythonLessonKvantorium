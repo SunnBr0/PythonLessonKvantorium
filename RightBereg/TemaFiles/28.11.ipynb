{
 "cells": [
  {
   "cell_type": "code",
   "execution_count": 10,
   "metadata": {},
   "outputs": [
    {
     "name": "stdout",
     "output_type": "stream",
     "text": [
      "Привет\n",
      "\n",
      "28\n",
      "\n",
      "11\n"
     ]
    }
   ],
   "source": [
    "text = open(\"./28.11.txt\",\"r\",encoding=\"utf-8\")\n",
    "for item in text:\n",
    "    print(item)\n",
    "text.close()"
   ]
  },
  {
   "cell_type": "code",
   "execution_count": 8,
   "metadata": {},
   "outputs": [
    {
     "name": "stdout",
     "output_type": "stream",
     "text": [
      "HelloWorld\n",
      "2\n"
     ]
    }
   ],
   "source": [
    "text = open(\"./28.11.txt\",\"r\")\n",
    "word = text.read(12)\n",
    "print(word)\n",
    "text.close()"
   ]
  },
  {
   "cell_type": "code",
   "execution_count": 13,
   "metadata": {},
   "outputs": [],
   "source": [
    "file = open(\"./test.txt\",\"w\")\n",
    "file.write(\"Hello\")\n",
    "file.write(\"123\")\n",
    "file.write(\"Привет\")\n",
    "file.close()"
   ]
  },
  {
   "cell_type": "code",
   "execution_count": 20,
   "metadata": {},
   "outputs": [],
   "source": [
    "fileOne = open(\"./testOne.txt\",\"w\",encoding=\"utf-8\")\n",
    "for item in range(1040,1200):\n",
    "    fileOne.write(chr(item))\n",
    "    fileOne.write('\\n')\n",
    "fileOne.close()\n"
   ]
  },
  {
   "cell_type": "code",
   "execution_count": 27,
   "metadata": {},
   "outputs": [],
   "source": [
    "newfile = open(\"./28.11.txt\",\"a\")\n",
    "newfile.write(\"\\nNewInfo\")\n",
    "newfile.close()"
   ]
  }
 ],
 "metadata": {
  "kernelspec": {
   "display_name": "Python 3",
   "language": "python",
   "name": "python3"
  },
  "language_info": {
   "codemirror_mode": {
    "name": "ipython",
    "version": 3
   },
   "file_extension": ".py",
   "mimetype": "text/x-python",
   "name": "python",
   "nbconvert_exporter": "python",
   "pygments_lexer": "ipython3",
   "version": "3.11.0"
  }
 },
 "nbformat": 4,
 "nbformat_minor": 2
}
