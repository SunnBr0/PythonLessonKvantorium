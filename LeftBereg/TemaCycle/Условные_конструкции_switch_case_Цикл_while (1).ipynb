{
  "cells": [
    {
      "cell_type": "code",
      "execution_count": null,
      "metadata": {
        "colab": {
          "base_uri": "https://localhost:8080/"
        },
        "id": "THb7DZ284zgb",
        "outputId": "3a2da705-63ce-4829-96e6-4b5fba192ec2"
      },
      "outputs": [
        {
          "name": "stdout",
          "output_type": "stream",
          "text": [
            "Неверное число\n"
          ]
        }
      ],
      "source": [
        "number = 21\n",
        "match number:\n",
        "        case 1:\n",
        "             print(\"Один\")\n",
        "        case 2:\n",
        "            print(\"Два\")\n",
        "        case 3:\n",
        "            print(\"Три\")\n",
        "        case _:\n",
        "            print(\"Неверное число\")"
      ]
    },
    {
      "cell_type": "code",
      "execution_count": null,
      "metadata": {
        "colab": {
          "base_uri": "https://localhost:8080/"
        },
        "id": "nsDeJ1Y9FiTA",
        "outputId": "ada4bc44-fd77-4b48-f341-98d838c14584"
      },
      "outputs": [
        {
          "name": "stdout",
          "output_type": "stream",
          "text": [
            "Go to work\n",
            "Go to work\n"
          ]
        }
      ],
      "source": [
        "day = \"Monday\"\n",
        "if day == \"Sunday\":\n",
        "    print(\"Take it easy\")\n",
        "elif day == \"Monday\":\n",
        "    print(\"Go to work\")\n",
        "elif day == \"Tuesday\":\n",
        "    print(\"Work + Hobbies\")\n",
        "elif day == \"Wednesday\":\n",
        "    print(\"Meetings\")\n",
        "elif day == \"Thursday\":\n",
        "    print(\"Presentations\")\n",
        "elif day == \"Friday\":\n",
        "    print(\"Interviews and party\")\n",
        "elif day == \"Saturday\":\n",
        "    print(\"Time to do sports\")\n",
        "\n",
        "day = \"Monday\"\n",
        "match day:\n",
        "    case \"Sunday\"    : print(\"Take it easy\")\n",
        "    case \"Monday\"    : print(\"Go to work\")\n",
        "    case \"Tuesday\"   : print(\"Work + Hobbies\")\n",
        "    case \"Wednesday\" : print(\"Meetings\")\n",
        "    case \"Thursday\"  : print(\"Presentations\")\n",
        "    case \"Friday\"    : print(\"Interviews and party\")\n",
        "    case \"Saturday\"  : print(\"Time to do sports\")"
      ]
    },
    {
      "cell_type": "code",
      "execution_count": null,
      "metadata": {
        "colab": {
          "base_uri": "https://localhost:8080/"
        },
        "id": "qS97sTbMGFvA",
        "outputId": "1825f6a7-527d-4b8f-a026-322c370bd9f3"
      },
      "outputs": [
        {
          "name": "stdout",
          "output_type": "stream",
          "text": [
            "-3\n"
          ]
        }
      ],
      "source": [
        "strChar = \"-\"\n",
        "a = 2\n",
        "b = 5\n",
        "match strChar:\n",
        "    case \"-\"    : print(a-b)\n",
        "    case \"+\"    : print(a+b)\n",
        "    case \"*\"   : print(a*b)\n"
      ]
    },
    {
      "cell_type": "code",
      "execution_count": null,
      "metadata": {
        "id": "1myJ9aGM8izj"
      },
      "outputs": [],
      "source": [
        "count = 1\n",
        "\n",
        "while count <= 5:\n",
        "    print(f\"Текущее значение count: {count}\")\n",
        "    count += 1  # Увеличиваем count на 1\n",
        "\n",
        "print(\"Цикл завершен\")"
      ]
    },
    {
      "cell_type": "code",
      "execution_count": null,
      "metadata": {
        "colab": {
          "base_uri": "https://localhost:8080/"
        },
        "id": "h5_TpHs98rRS",
        "outputId": "8d67a59e-c497-4a54-a923-e603454d7c01"
      },
      "outputs": [
        {
          "name": "stdout",
          "output_type": "stream",
          "text": [
            "Текущее значение count: 1\n",
            "Текущее значение count: 2\n",
            "Текущее значение count: 3\n",
            "Цикл завершен\n"
          ]
        }
      ],
      "source": [
        "count = 0\n",
        "\n",
        "while count <= 5:\n",
        "    count += 1  # Увеличиваем count на 1\n",
        "    if count == 4:\n",
        "      break\n",
        "    print(f\"Текущее значение count: {count}\")\n",
        "\n",
        "print(\"Цикл завершен\")"
      ]
    },
    {
      "cell_type": "code",
      "execution_count": null,
      "metadata": {
        "colab": {
          "base_uri": "https://localhost:8080/"
        },
        "id": "zLYGcCd69Bdb",
        "outputId": "0031efb8-5bf7-47b0-9c53-7c0a5e5371eb"
      },
      "outputs": [
        {
          "name": "stdout",
          "output_type": "stream",
          "text": [
            "Текущее значение count: 1\n",
            "Текущее значение count: 2\n",
            "Текущее значение count: 4\n",
            "Текущее значение count: 5\n",
            "Текущее значение count: 6\n",
            "Цикл завершен\n"
          ]
        }
      ],
      "source": [
        "count = 0\n",
        "\n",
        "while count <= 5:\n",
        "    count += 1  # Увеличиваем count на 1\n",
        "    if count == 3:\n",
        "        continue\n",
        "    print(f\"Текущее значение count: {count}\")\n",
        "\n",
        "print(\"Цикл завершен\")"
      ]
    },
    {
      "cell_type": "code",
      "execution_count": null,
      "metadata": {
        "colab": {
          "base_uri": "https://localhost:8080/"
        },
        "id": "f44xiGE5HF43",
        "outputId": "c81fd670-d77e-48ff-ac29-fa5a787550bf"
      },
      "outputs": [
        {
          "name": "stdout",
          "output_type": "stream",
          "text": [
            "1\n",
            "3\n",
            "5\n",
            "7\n",
            "9\n"
          ]
        }
      ],
      "source": [
        "i = 0\n",
        "while i < 10:\n",
        "    i += 1\n",
        "    if i % 2 == 0:\n",
        "        continue\n",
        "    print(i)\n"
      ]
    },
    {
      "cell_type": "code",
      "execution_count": null,
      "metadata": {
        "colab": {
          "base_uri": "https://localhost:8080/"
        },
        "id": "64Lm7vuQ9O-b",
        "outputId": "992162f5-a36a-4aeb-fcb6-4ff016fbf985"
      },
      "outputs": [
        {
          "name": "stdout",
          "output_type": "stream",
          "text": [
            "Введите 'exit' для выхода или что-либо другое для продолжения: dasd\n",
            "Вы ввели: dasd\n",
            "Введите 'exit' для выхода или что-либо другое для продолжения: exit\n",
            "Выход из цикла.\n",
            "Цикл завершен.\n"
          ]
        }
      ],
      "source": [
        "while True:\n",
        "    user_input = input(\"Введите 'exit' для выхода или что-либо другое для продолжения: \")\n",
        "    if user_input == 'exit':\n",
        "        print(\"Выход из цикла.\")\n",
        "        break\n",
        "    else:\n",
        "        print(f\"Вы ввели: {user_input}\")\n",
        "\n",
        "print(\"Цикл завершен.\")"
      ]
    },
    {
      "cell_type": "code",
      "execution_count": null,
      "metadata": {
        "colab": {
          "base_uri": "https://localhost:8080/"
        },
        "id": "myRbROO8ALJC",
        "outputId": "a1358ed8-e5f4-4f44-d5e2-8e9238ba08c1"
      },
      "outputs": [
        {
          "name": "stdout",
          "output_type": "stream",
          "text": [
            "Я загадал число от 1 до 10. Попробуй угадать!\n",
            "Ваше предположение: 9\n",
            "Загаданное число меньше.\n",
            "Ваше предположение: 4\n",
            "Загаданное число меньше.\n",
            "Ваше предположение: 2\n",
            "Загаданное число больше.\n",
            "Ваше предположение: 1\n",
            "Загаданное число больше.\n",
            "Ваше предположение: 3\n",
            "Поздравляю! Вы угадали число 3.\n"
          ]
        }
      ],
      "source": [
        "import random\n",
        "secret_number = random.randint(1, 10)  # Программа загадывает число от 1 до 10\n",
        "print(\"Я загадал число от 1 до 10. Попробуй угадать!\")\n",
        "\n",
        "while True:\n",
        "    guess = int(input(\"Ваше предположение: \"))  # Игрок вводит догадку\n",
        "\n",
        "    if guess < secret_number:\n",
        "            print(\"Загаданное число больше.\")\n",
        "    elif guess > secret_number:\n",
        "            print(\"Загаданное число меньше.\")\n",
        "    else:\n",
        "        print(f\"Поздравляю! Вы угадали число {secret_number}.\")\n",
        "        break  # Прерываем цикл, если число угадано"
      ]
    },
    {
      "cell_type": "markdown",
      "metadata": {
        "id": "evzGdbemQWMM"
      },
      "source": [
        "### Задача по match case:\n",
        "\n",
        " Задача 1 : Простой калькулятор Напишите калькулятор, который принимает два числа и оператор (например, +, -, *, /) и с помощью match...case вычисляет результат."
      ]
    },
    {
      "cell_type": "markdown",
      "metadata": {
        "id": "nL_a2rwlRukS"
      },
      "source": [
        "Задача 2: Определение типа геометрической фигуры Напишите программу, которая определяет тип фигуры на основе количества её сторон (3 — треугольник, 4 — квадрат/прямоугольник, 5 — пятиугольник и т.д.)."
      ]
    },
    {
      "cell_type": "markdown",
      "metadata": {
        "id": "vu7ABJOKO-vk"
      },
      "source": [
        "### Задача по циклам\n",
        "Задача 1: Четные числа\n",
        "Напишите программу, которая с помощью цикла while выводит все не чётные от 1 до 20."
      ]
    },
    {
      "cell_type": "markdown",
      "metadata": {
        "id": "csq4q-KBPHeU"
      },
      "source": [
        "Задача 2: Сумма чисел до 100\n",
        "Напишите программу, которая суммирует все числа от 1 до 100 и выводит результат с помощью цикла while."
      ]
    },
    {
      "cell_type": "markdown",
      "metadata": {
        "id": "72AcxBhePND8"
      },
      "source": [
        "Задача 3: Проверка пароля\n",
        "Напишите программу, которая запрашивает у пользователя пароль и продолжает запрашивать, пока пользователь не введет правильный пароль. Используйте цикл while."
      ]
    },
    {
      "cell_type": "code",
      "execution_count": null,
      "metadata": {
        "id": "6mdr__iaPGvM"
      },
      "outputs": [],
      "source": []
    }
  ],
  "metadata": {
    "colab": {
      "provenance": [],
      "toc_visible": true
    },
    "kernelspec": {
      "display_name": "Python 3",
      "name": "python3"
    },
    "language_info": {
      "name": "python"
    }
  },
  "nbformat": 4,
  "nbformat_minor": 0
}
