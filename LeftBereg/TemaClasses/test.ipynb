{
 "cells": [
  {
   "cell_type": "code",
   "execution_count": 35,
   "metadata": {},
   "outputs": [
    {
     "name": "stdout",
     "output_type": "stream",
     "text": [
      "7\n",
      "120\n",
      "8\n"
     ]
    }
   ],
   "source": [
    "class MathUtils:\n",
    "    @staticmethod\n",
    "    def add(a, b):\n",
    "        return a + b\n",
    "\n",
    "    @staticmethod\n",
    "    def factorial(number):\n",
    "        if number < 0:\n",
    "            raise ValueError(\"Factorial is not defined for negative numbers.\")\n",
    "        factorial = 1\n",
    "        for i in range(1,number + 1):\n",
    "            factorial *= i\n",
    "        return factorial\n",
    "        \n",
    "    @staticmethod\n",
    "    def pow(number,step):\n",
    "        factorial = 1\n",
    "        for i in range(1,number + 1):\n",
    "            factorial *= step\n",
    "        return factorial\n",
    "\n",
    "# Пример использования\n",
    "print(MathUtils.add(3, 4))  # Вывод: 7\n",
    "print(MathUtils.factorial(5))  # Вывод: 120\n",
    "print(MathUtils.pow(3,2))  # Вывод: 120\n",
    "# print(MathUtils.pow(5))  # Вывод: 120"
   ]
  },
  {
   "cell_type": "code",
   "execution_count": 19,
   "metadata": {},
   "outputs": [
    {
     "name": "stdout",
     "output_type": "stream",
     "text": [
      "32.0\n",
      "0.0\n"
     ]
    }
   ],
   "source": [
    "class Temperature:\n",
    "    def __init__(self, celsius):\n",
    "        self.celsius = celsius\n",
    "\n",
    "    def celsiusOnfahrenheit(self):\n",
    "        return self.celsius * 9 / 5 + 32\n",
    "\n",
    "    def fahrenheitOncelsius(self, value):\n",
    "        return (value - 32) * 5 / 9\n",
    "\n",
    "# Пример использования\n",
    "temp = Temperature(0)\n",
    "valueF = temp.celsiusOnfahrenheit()\n",
    "print(valueF)  # Вывод: 32.0\n",
    "valueC = temp.fahrenheitOncelsius(valueF)\n",
    "print(valueC)  # Вывод: 32.0\n",
    "# temp.fahrenheit = 212\n",
    "# print(temp.celsius)  # Вывод: 100.0"
   ]
  }
 ],
 "metadata": {
  "kernelspec": {
   "display_name": "Python 3",
   "language": "python",
   "name": "python3"
  },
  "language_info": {
   "codemirror_mode": {
    "name": "ipython",
    "version": 3
   },
   "file_extension": ".py",
   "mimetype": "text/x-python",
   "name": "python",
   "nbconvert_exporter": "python",
   "pygments_lexer": "ipython3",
   "version": "3.11.0"
  }
 },
 "nbformat": 4,
 "nbformat_minor": 2
}
