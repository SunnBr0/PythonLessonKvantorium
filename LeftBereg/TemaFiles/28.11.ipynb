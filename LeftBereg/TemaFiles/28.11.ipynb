{
 "cells": [
  {
   "cell_type": "code",
   "execution_count": 2,
   "metadata": {},
   "outputs": [
    {
     "name": "stdout",
     "output_type": "stream",
     "text": [
      "Hello\n",
      "Word\n",
      "Привет\n"
     ]
    }
   ],
   "source": [
    "text = open(\"./text.txt\",\"r\",encoding=\"utf-8\")\n",
    "word = text.read()\n",
    "print(word)\n",
    "text.close()"
   ]
  },
  {
   "cell_type": "code",
   "execution_count": 2,
   "metadata": {},
   "outputs": [],
   "source": [
    "file = open(\"./testOne.txt\",\"w\")\n",
    "file.write(\"Hello\")\n",
    "file.write(\"123\")\n",
    "file.write(\"ПРивет\")\n",
    "file.close()"
   ]
  },
  {
   "cell_type": "code",
   "execution_count": null,
   "metadata": {},
   "outputs": [],
   "source": [
    "fileOne = open(\"./alfavit.txt\",\"w\",encoding=\"utf-8\")\n",
    "for item in range(1040,1200):\n",
    "    #fileOne.write(str(item))\n",
    "    fileOne.write(chr(item))\n",
    "    fileOne.write(\"\\n\")\n",
    "fileOne.close()"
   ]
  },
  {
   "cell_type": "code",
   "execution_count": 6,
   "metadata": {},
   "outputs": [],
   "source": [
    "newfile = open(\"./text.txt\",\"a\",encoding=\"utf-8\")\n",
    "newfile.write(\"\\nNewInfo\")\n",
    "newfile.close()"
   ]
  },
  {
   "cell_type": "code",
   "execution_count": 16,
   "metadata": {},
   "outputs": [
    {
     "name": "stdout",
     "output_type": "stream",
     "text": [
      "Hello\n",
      "W\n",
      "Hello\n",
      "\n",
      "['Hello\\n', 'Word\\n', 'РџСЂРёРІРµС‚\\n', 'NewInfo\\n', 'NewInfo']\n"
     ]
    }
   ],
   "source": [
    "with open(\"./text.txt\",\"r\") as word:\n",
    "    content = word.read(7)\n",
    "    print(content)\n",
    "with open(\"./text.txt\",\"r\") as word:\n",
    "    content = word.readline()\n",
    "    print(content)\n",
    "with open(\"./text.txt\",\"r\") as word:\n",
    "    content = word.readlines()\n",
    "    print(content)"
   ]
  },
  {
   "cell_type": "code",
   "execution_count": null,
   "metadata": {},
   "outputs": [],
   "source": [
    "with open(\"./testNew.txt\",\"w\",encoding=\"utf-8\") as text:\n",
    "    text.write(\"Привет\\nМир\")\n",
    "with open(\"./testNew.txt\",\"a\",encoding=\"utf-8\") as text:\n",
    "    text.write(\"Hello\\nMir\")"
   ]
  }
 ],
 "metadata": {
  "kernelspec": {
   "display_name": "Python 3",
   "language": "python",
   "name": "python3"
  },
  "language_info": {
   "codemirror_mode": {
    "name": "ipython",
    "version": 3
   },
   "file_extension": ".py",
   "mimetype": "text/x-python",
   "name": "python",
   "nbconvert_exporter": "python",
   "pygments_lexer": "ipython3",
   "version": "3.11.0"
  }
 },
 "nbformat": 4,
 "nbformat_minor": 2
}
