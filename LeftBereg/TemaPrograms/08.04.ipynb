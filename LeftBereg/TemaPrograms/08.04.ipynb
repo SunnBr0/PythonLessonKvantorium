{
 "cells": [
  {
   "cell_type": "code",
   "execution_count": 6,
   "id": "601dc56a",
   "metadata": {},
   "outputs": [],
   "source": [
    "import tkinter as tk\n",
    "import random\n",
    "def whatWinner(userChoice):\n",
    "    value = [\"камень\",\"ножницы\",\"бумага\"]\n",
    "    computerChoice = random.choice(value)\n",
    "    label.config(text=(\"Компьютер выбрал: \"+computerChoice))\n",
    "    if computerChoice == userChoice:\n",
    "        resultLabel.config(text=(\"Результат: \"+\"Ничья!\"))\n",
    "    elif (userChoice == \"камень\" and computerChoice == \"ножницы\"):\n",
    "        resultLabel.config(text=(\"Результат: \"+\"Победа!\"))\n",
    "    elif (userChoice == \"ножницы\" and computerChoice == \"бумага\"):\n",
    "        resultLabel.config(text=(\"Результат: \"+\"Победа!\"))\n",
    "    elif (userChoice == \"бумага\" and computerChoice == \"камень\"):\n",
    "        resultLabel.config(text=(\"Результат: \"+\"Победа!\"))\n",
    "    else:\n",
    "        resultLabel.config(text=(\"Результат: \"+\"Поражение!\"))\n",
    "root = tk.Tk()\n",
    "root.title(\"Камень ножницы бумага\")\n",
    "root.geometry(\"300x200\")\n",
    "label = tk.Label(root,text=\"Выберите вариант:\")\n",
    "stoneButton = tk.Button(root,text=\"Камень\",command=lambda: whatWinner(\"камень\"))\n",
    "paperButton = tk.Button(root,text=\"Бумага\",command=lambda: whatWinner(\"бумага\"))\n",
    "scissorsButton = tk.Button(root,text=\"Ножницы\",command=lambda: whatWinner(\"ножницы\"))\n",
    "resultLabel = tk.Label(root,text=\"Результат: \")\n",
    "label.pack()\n",
    "stoneButton.pack()\n",
    "paperButton.pack()\n",
    "scissorsButton.pack()\n",
    "resultLabel.pack()\n",
    "root.mainloop()"
   ]
  }
 ],
 "metadata": {
  "kernelspec": {
   "display_name": "Python 3",
   "language": "python",
   "name": "python3"
  },
  "language_info": {
   "codemirror_mode": {
    "name": "ipython",
    "version": 3
   },
   "file_extension": ".py",
   "mimetype": "text/x-python",
   "name": "python",
   "nbconvert_exporter": "python",
   "pygments_lexer": "ipython3",
   "version": "3.11.0"
  }
 },
 "nbformat": 4,
 "nbformat_minor": 5
}
