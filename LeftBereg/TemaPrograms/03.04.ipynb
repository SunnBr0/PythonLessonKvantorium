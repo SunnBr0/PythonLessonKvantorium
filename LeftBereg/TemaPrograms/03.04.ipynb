{
 "cells": [
  {
   "cell_type": "code",
   "execution_count": null,
   "metadata": {},
   "outputs": [],
   "source": [
    "import tkinter as tk\n",
    "root = tk.Tk()\n",
    "root.title(\"Приложение\")\n",
    "root.geometry(\"400x500\")\n",
    "label = tk.Label(root,text=\"Добро пожаловать\",font=(\"Arial\",22))\n",
    "entry = tk.Entry(root,width=50)\n",
    "button = tk.Button(root,text=\"Нажми на меня\")\n",
    "label.place(x=20,y=111)\n",
    "entry.place(x=22,y=44)\n",
    "button.place(x=3,y=11)\n",
    "root.mainloop()"
   ]
  },
  {
   "cell_type": "code",
   "execution_count": null,
   "metadata": {},
   "outputs": [],
   "source": [
    "import tkinter as tk\n",
    "root = tk.Tk()\n",
    "root.title(\"Приложение\")\n",
    "root.geometry(\"400x500\")\n",
    "container = tk.Frame(root)\n",
    "label = tk.Label(container,text=\"Добро пожаловать\",font=(\"Arial\",22))\n",
    "labelText = tk.Label(container,text=\"Your name:\",font=(\"Arial\",22))\n",
    "entry = tk.Entry(container,width=50)\n",
    "def showText(entry,labelText):\n",
    "    text = entry.get()\n",
    "    labelText.config(text=(\"Your name:\"+text))\n",
    "button = tk.Button(container,text=\"Нажми на меня\",command=showText)\n",
    "label.grid(row=0,column=0)\n",
    "entry.grid(row=1,column=0)\n",
    "button.grid(row=2,column=0)\n",
    "labelText.grid(row=3,column=0)\n",
    "container.place(x=100,y=200)\n",
    "root.mainloop()"
   ]
  },
  {
   "cell_type": "code",
   "execution_count": 4,
   "metadata": {},
   "outputs": [
    {
     "name": "stderr",
     "output_type": "stream",
     "text": [
      "Exception in Tkinter callback\n",
      "Traceback (most recent call last):\n",
      "  File \"c:\\Users\\Zadira\\AppData\\Local\\Programs\\Python\\Python311\\Lib\\tkinter\\__init__.py\", line 1948, in __call__\n",
      "    return self.func(*args)\n",
      "           ^^^^^^^^^^^^^^^^\n",
      "  File \"C:\\Users\\Zadira\\AppData\\Local\\Temp\\ipykernel_13704\\430107346.py\", line 19, in <lambda>\n",
      "    buttonMinus  =  tk.Button(root,text=\"-\",width=5,command=lambda: oper(\"-\"))\n",
      "                                                                    ^^^^^^^^^\n",
      "TypeError: oper() missing 3 required positional arguments: 'labelResult', 'entryOne', and 'entryTwo'\n",
      "Exception in Tkinter callback\n",
      "Traceback (most recent call last):\n",
      "  File \"c:\\Users\\Zadira\\AppData\\Local\\Programs\\Python\\Python311\\Lib\\tkinter\\__init__.py\", line 1948, in __call__\n",
      "    return self.func(*args)\n",
      "           ^^^^^^^^^^^^^^^^\n",
      "  File \"C:\\Users\\Zadira\\AppData\\Local\\Temp\\ipykernel_13704\\430107346.py\", line 19, in <lambda>\n",
      "    buttonMinus  =  tk.Button(root,text=\"-\",width=5,command=lambda: oper(\"-\"))\n",
      "                                                                    ^^^^^^^^^\n",
      "TypeError: oper() missing 3 required positional arguments: 'labelResult', 'entryOne', and 'entryTwo'\n",
      "Exception in Tkinter callback\n",
      "Traceback (most recent call last):\n",
      "  File \"c:\\Users\\Zadira\\AppData\\Local\\Programs\\Python\\Python311\\Lib\\tkinter\\__init__.py\", line 1948, in __call__\n",
      "    return self.func(*args)\n",
      "           ^^^^^^^^^^^^^^^^\n",
      "  File \"C:\\Users\\Zadira\\AppData\\Local\\Temp\\ipykernel_13704\\430107346.py\", line 19, in <lambda>\n",
      "    buttonMinus  =  tk.Button(root,text=\"-\",width=5,command=lambda: oper(\"-\"))\n",
      "                                                                    ^^^^^^^^^\n",
      "TypeError: oper() missing 3 required positional arguments: 'labelResult', 'entryOne', and 'entryTwo'\n"
     ]
    }
   ],
   "source": [
    "import tkinter as tk\n",
    "def oper(str,labelResult,entryOne,entryTwo):\n",
    "    num1 = int(entryOne.get())\n",
    "    num2 = int(entryTwo.get())\n",
    "    if(str == \"+\"):\n",
    "        res = num1 + num2\n",
    "    elif (str == \"-\"):\n",
    "        res = num1 - num2\n",
    "    labelResult.config(text = (\"Результат:\",res))\n",
    "root = tk.Tk()\n",
    "root.title(\"Приложение\")\n",
    "root.geometry(\"400x500\")\n",
    "labelOne = tk.Label(root,text=\"Введите одно число\",font=(\"Arial\",22))\n",
    "entryOne = tk.Entry(root,width=50)\n",
    "labelTwo = tk.Label(root,text=\"Введите второе число\",font=(\"Arial\",22))\n",
    "entryTwo = tk.Entry(root,width=50)\n",
    "\n",
    "buttonSum  =  tk.Button(root,text=\"+\",width=5,command=lambda: oper(\"+\",labelResult,entryOne,entryTwo))\n",
    "buttonMinus  =  tk.Button(root,text=\"-\",width=5,command=lambda: oper(\"-\"))\n",
    "labelResult = tk.Label(root,text=\"Результат:\",font=(\"Arial\",22))\n",
    "labelOne.pack()\n",
    "entryOne.pack()\n",
    "labelTwo.pack()\n",
    "entryTwo.pack()\n",
    "buttonSum.pack()\n",
    "buttonMinus.pack()\n",
    "labelResult.pack()\n",
    "root.mainloop()"
   ]
  },
  {
   "cell_type": "markdown",
   "metadata": {},
   "source": []
  },
  {
   "cell_type": "markdown",
   "metadata": {},
   "source": []
  }
 ],
 "metadata": {
  "kernelspec": {
   "display_name": "Python 3",
   "language": "python",
   "name": "python3"
  },
  "language_info": {
   "codemirror_mode": {
    "name": "ipython",
    "version": 3
   },
   "file_extension": ".py",
   "mimetype": "text/x-python",
   "name": "python",
   "nbconvert_exporter": "python",
   "pygments_lexer": "ipython3",
   "version": "3.11.0"
  }
 },
 "nbformat": 4,
 "nbformat_minor": 2
}
