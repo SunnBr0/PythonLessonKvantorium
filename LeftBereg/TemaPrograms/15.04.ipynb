{
 "cells": [
  {
   "cell_type": "code",
   "execution_count": null,
   "id": "8695d490",
   "metadata": {},
   "outputs": [],
   "source": [
    "import tkinter as tk\n",
    "from PIL import Image, ImageTk\n",
    "# Создаем главное окн\n",
    "root = tk.Tk()\n",
    "root.title(\"Отображение изображения\")\n",
    "root.geometry(\"400x300\")\n",
    "# py -m pip install pillow\n",
    "image = Image.open(\"example.png\")  # Укажите путь к вашему изображению\n",
    "image = image.resize((200, 200))  # Изменяем размер изображения\n",
    "photo = ImageTk.PhotoImage(image)\n",
    "# Сохраняем ссылку на изображение в атрибуте виджета\n",
    "label = tk.Label(root, image=photo)\n",
    "label.pack()\n",
    "# Запускаем главный цикл\n",
    "root.mainloop()"
   ]
  },
  {
   "cell_type": "code",
   "execution_count": 8,
   "id": "8025dc3c",
   "metadata": {},
   "outputs": [],
   "source": [
    "import tkinter as tk\n",
    "from PIL import Image, ImageTk\n",
    "\n",
    "# Создаем главное окно\n",
    "root = tk.Tk()\n",
    "root.title(\"Холст с изображением\")\n",
    "root.geometry(\"600x300\")\n",
    "# Создаем холст\n",
    "canvas = tk.Canvas(root, width=300, height=200)\n",
    "canvas.pack(pady=20)\n",
    "# Загружаем изображение\n",
    "image = Image.open(\"example.jpg\")\n",
    "image = image.resize((200, 200))\n",
    "photo = ImageTk.PhotoImage(image)\n",
    "# Размещаем изображение на холсте\n",
    "canvas.create_image(150, 100, image=photo)\n",
    "# Запускаем главный цикл\n",
    "root.mainloop()"
   ]
  },
  {
   "cell_type": "code",
   "execution_count": 10,
   "id": "d6bd803f",
   "metadata": {},
   "outputs": [],
   "source": [
    "import tkinter as tk\n",
    "from PIL import Image, ImageTk\n",
    "# Создаем главное окно\n",
    "root = tk.Tk()\n",
    "root.title(\"Текстовое поле с изображением\")\n",
    "root.geometry(\"400x300\")\n",
    "# Создаем текстовое поле\n",
    "text = tk.Text(root, width=40, height=10)\n",
    "text.pack(pady=20)\n",
    "# Загружаем изображение\n",
    "image = Image.open(\"example.jpg\")\n",
    "image = image.resize((100, 100))\n",
    "photo = ImageTk.PhotoImage(image)\n",
    "# Вставляем изображение в текстовое поле\n",
    "text.image_create(tk.END, image=photo)\n",
    "text.insert(tk.END, \"\\nЭто текст после изображения.\")\n",
    "# Запускаем главный цикл\n",
    "root.mainloop()"
   ]
  },
  {
   "cell_type": "code",
   "execution_count": 6,
   "id": "eb2d7f3a",
   "metadata": {},
   "outputs": [],
   "source": [
    "import tkinter as tk\n",
    "from PIL import Image, ImageTk\n",
    "root = tk.Tk()\n",
    "root.title(\"Анимация на Canvas\")\n",
    "root.geometry(\"400x300\")\n",
    "canvas = tk.Canvas(root, width=400, height=300)\n",
    "canvas.pack()\n",
    "image = Image.open(\"example.jpg\")\n",
    "image = image.resize((50, 50))\n",
    "photo = ImageTk.PhotoImage(image)\n",
    "x, y = 50, 50\n",
    "item = canvas.create_image(x, y, image=photo)\n",
    "def move_image():\n",
    "    global x, y\n",
    "    canvas.move(item, 5, 0)  # Двигаем изображение по оси X\n",
    "    x += 5\n",
    "    if x > 350:\n",
    "        canvas.coords(item, 50, y)\n",
    "        x = 50\n",
    "    root.after(50, move_image)  # Вызываем функцию снова через 50 мс\n",
    "move_image()\n",
    "root.mainloop()"
   ]
  }
 ],
 "metadata": {
  "kernelspec": {
   "display_name": "Python 3",
   "language": "python",
   "name": "python3"
  },
  "language_info": {
   "codemirror_mode": {
    "name": "ipython",
    "version": 3
   },
   "file_extension": ".py",
   "mimetype": "text/x-python",
   "name": "python",
   "nbconvert_exporter": "python",
   "pygments_lexer": "ipython3",
   "version": "3.11.0"
  }
 },
 "nbformat": 4,
 "nbformat_minor": 5
}
